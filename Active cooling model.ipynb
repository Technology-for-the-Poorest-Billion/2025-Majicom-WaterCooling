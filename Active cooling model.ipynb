{
  "nbformat": 4,
  "nbformat_minor": 0,
  "metadata": {
    "colab": {
      "provenance": [],
      "authorship_tag": "ABX9TyNZXq0AcWinxUDHgfhBZun/",
      "include_colab_link": true
    },
    "kernelspec": {
      "name": "python3",
      "display_name": "Python 3"
    },
    "language_info": {
      "name": "python"
    }
  },
  "cells": [
    {
      "cell_type": "markdown",
      "metadata": {
        "id": "view-in-github",
        "colab_type": "text"
      },
      "source": [
        "<a href=\"https://colab.research.google.com/github/Technology-for-the-Poorest-Billion/2025-Majicom-WaterCooling/blob/main/Active%20cooling%20model.ipynb\" target=\"_parent\"><img src=\"https://colab.research.google.com/assets/colab-badge.svg\" alt=\"Open In Colab\"/></a>"
      ]
    },
    {
      "cell_type": "markdown",
      "source": [
        "Several options were identified as possibilities of cooling water in the tank:\n",
        "\n",
        "- Cooling as it is dispensed with either Peltier, or a cycle\n",
        "- Cooling the whole water tank with either Peltier or a cycle\n",
        "- Cooling a smaller tank prior to dispensal\n",
        "- Heat exchanger with the tap water\n"
      ],
      "metadata": {
        "id": "7sUGrtgHM9ai"
      }
    },
    {
      "cell_type": "markdown",
      "source": [
        "# 1. Cooling as it is dispensed:"
      ],
      "metadata": {
        "id": "XvWpM1b1SPQ0"
      }
    },
    {
      "cell_type": "code",
      "source": [
        "time = 10 #s\n",
        "c = 4200 #Heat capacity of water in J/kg/K\n",
        "m = 0.5 #kg\n",
        "dT = 5 #K\n",
        "Energy = m*c*dT\n",
        "print(f\"Energy necessary to cool the water = {Energy:.0f} Joules\")\n",
        "Power = Energy/time\n",
        "print(f\"Power necessary to cool the water = {Power:.0f} Watts\")\n"
      ],
      "metadata": {
        "colab": {
          "base_uri": "https://localhost:8080/"
        },
        "id": "IapcRlidMuvf",
        "outputId": "86e0a0c3-5bb4-4842-e2d8-a25bc61451cb"
      },
      "execution_count": null,
      "outputs": [
        {
          "output_type": "stream",
          "name": "stdout",
          "text": [
            "Energy necessary to cool the water = 10500 Joules\n",
            "Power necessary to cool the water = 1050 Watts\n"
          ]
        }
      ]
    },
    {
      "cell_type": "markdown",
      "source": [
        "1 kW of peak cooling power is a lot. However, that translates to even more electric power needed, hence the COP (efficiency) of the cooling system is of great importance. However, since the start up time required is very short, only Peltier modules would be applicable. Cycle systems require at least 2 min start up time to reach their cooling power, so they are nmot suitable for cooling on demand."
      ],
      "metadata": {
        "id": "aT3YJJnOTOuT"
      }
    },
    {
      "cell_type": "code",
      "source": [
        "#Peltier efficiency\n",
        "eff = 0.5 #might be optimistic, we could check\n",
        "Epower = Power/eff\n",
        "print(f\"Peak power necessary to cool the water = {Epower:.0f} Watts\")"
      ],
      "metadata": {
        "colab": {
          "base_uri": "https://localhost:8080/"
        },
        "id": "uodt32IeT8ND",
        "outputId": "6c20d36b-0a3b-440c-a7ee-0d56035a4c2b"
      },
      "execution_count": null,
      "outputs": [
        {
          "output_type": "stream",
          "name": "stdout",
          "text": [
            "Energy necessary to cool the water = 2100 Joules\n"
          ]
        }
      ]
    },
    {
      "cell_type": "markdown",
      "source": [
        "The peak power requirement is high and would require the use of several high power peltier modules. The hot side would also require some cooling system.\n",
        "This power could be stored in the battery for use and be constantly recharged from the solar panels"
      ],
      "metadata": {
        "id": "DhonWjMLVEVP"
      }
    },
    {
      "cell_type": "code",
      "source": [
        "#Assuming 1 user per 30 seconds\n",
        "average_time = 30 #s\n",
        "Average_Power = Epower*time/average_time\n",
        "print(f\"Average power necessary to cool the water = {Average_Power:.0f} Watts\")"
      ],
      "metadata": {
        "colab": {
          "base_uri": "https://localhost:8080/"
        },
        "id": "wdqUHlwUXec1",
        "outputId": "a8708dc3-2484-4eb5-852a-86b3d7e20362"
      },
      "execution_count": null,
      "outputs": [
        {
          "output_type": "stream",
          "name": "stdout",
          "text": [
            "Average power necessary to cool the water = 700 Watts\n"
          ]
        }
      ]
    },
    {
      "cell_type": "markdown",
      "source": [
        "This would result in large area of panels needed, but could nevertheless be possible. One other possible consideration could be the rate of heat transfer in the pipes. To allow a large temperature drop large area would be needed."
      ],
      "metadata": {
        "id": "4DCJSLNvYZoi"
      }
    },
    {
      "cell_type": "markdown",
      "source": [
        "In order to check the cooling capabilities of Peltier cells, the following experimental setup is considered. A series of Peltier cells is placed in a row over a rectangular cooling channel. This geometry is chosen for its simplicity in analysis and acts as a first guess and an approximation. It aims to determine whether a simple setup without a complicated heat exchanger is possible to cool hte water.\n"
      ],
      "metadata": {
        "id": "-6837Lvx7OQz"
      }
    },
    {
      "cell_type": "code",
      "source": [
        "#Physical Paramenters:\n",
        "d = 0.01 #channel thickness\n",
        "w = 0.062 #channel width (same as teh width of the peltier modules)\n",
        "m = 0.05 #kg/s - mass flow\n",
        "c = 4200 #Heat capacity of water in J/kg/K\n",
        "dT = 5 #K\n",
        "mu = 0.001 #dynamic viscosity\n",
        "rho = 1000 #kg/m3\n",
        "k = 0.603 #thermal conductivity of water\n",
        "\n",
        "Bulk_velocity = m/(rho*d*w)\n",
        "print(f\"Bulk velocity = {Bulk_velocity:.3e} m/s\")\n",
        "\n",
        "Re = rho*Bulk_velocity*d/mu\n",
        "print(f\"Reynolds number = {Re:.0f}\")\n",
        "\n",
        "\n"
      ],
      "metadata": {
        "colab": {
          "base_uri": "https://localhost:8080/"
        },
        "id": "1F_jTPvo7M9f",
        "outputId": "6bb02b88-34cc-4126-d253-0b59c7a4ec04"
      },
      "execution_count": 5,
      "outputs": [
        {
          "output_type": "stream",
          "name": "stdout",
          "text": [
            "Bulk velocity = 8.065e-02 m/s\n",
            "Reynolds number = 806\n"
          ]
        }
      ]
    },
    {
      "cell_type": "markdown",
      "source": [
        "Low Reynolds number suggests laminar flow. It can be assumed that it is fully developed and hence given by the equation"
      ],
      "metadata": {
        "id": "06bzw5gxIIul"
      }
    },
    {
      "cell_type": "code",
      "source": [
        "import sympy as sp\n",
        "\n",
        "u , Ub , y , d = sp.symbols('u U_b y d')\n",
        "u = 2 *Ub * (1 - (y/d)**2)\n",
        "u"
      ],
      "metadata": {
        "colab": {
          "base_uri": "https://localhost:8080/",
          "height": 58
        },
        "id": "luzW-42kQG9P",
        "outputId": "05942706-f71d-4767-9520-71371c0b9bf8"
      },
      "execution_count": 9,
      "outputs": [
        {
          "output_type": "execute_result",
          "data": {
            "text/plain": [
              "2*U_b*(1 - y**2/d**2)"
            ],
            "text/latex": "$\\displaystyle 2 U_{b} \\left(1 - \\frac{y^{2}}{d^{2}}\\right)$"
          },
          "metadata": {},
          "execution_count": 9
        }
      ]
    },
    {
      "cell_type": "markdown",
      "source": [
        "# 2. Cooling the whole tank\n",
        "\n",
        "This idea is centred on pumping the water out of the tank and passing through a cooling circuit before returning again to the container. This allows to run the cooling circuit the whole time and would make the use of not just peltier but also cycle coolers possible. However this introduces the heat losses from the tank and it may interfere with the passive cooling."
      ],
      "metadata": {
        "id": "sUL-F844Ypam"
      }
    },
    {
      "cell_type": "code",
      "source": [
        "#Just average Power needs to be supplied\n",
        "#For Peltier:\n",
        "print(f\"Average power necessary to cool the water using Peltier modules = {Average_Power:.0f} Watts\")\n",
        "\n",
        "#For cycle coolers:\n",
        "COP = 1.5 #needs to eb checkd for an exact model\n",
        "Cycle_power = Energy/average_time/COP\n",
        "print(f\"Average power necessary to cool the water using cycle coolers = {Cycle_power:.0f} Watts\")\n"
      ],
      "metadata": {
        "colab": {
          "base_uri": "https://localhost:8080/"
        },
        "id": "JsZhv7GfYWd0",
        "outputId": "c03f09f2-34ee-429d-d199-95421691e6cb"
      },
      "execution_count": null,
      "outputs": [
        {
          "output_type": "stream",
          "name": "stdout",
          "text": [
            "Average power necessary to cool the water using Peltier modules = 700 Watts\n",
            "Average power necessary to cool the water using cycle coolers = 233 Watts\n"
          ]
        }
      ]
    },
    {
      "cell_type": "markdown",
      "source": [
        "The results from this calculation suggest that a cycle cooler would allow large energy savings, however at the cost of much higher complexity.\n",
        "\n",
        "An interesting comparison is one to a home fridge. A modern fridge uses between 350 and 500 Watts. From this angle it may seem that the system is very inefficient and power hungry. However, household fridge in normal operation uses that power just to maintain its' temperature, without taking constantly cooling more mass.\n",
        "\n",
        "Another important factor is to consider the heat losses from the tank, this is done in the cell below."
      ],
      "metadata": {
        "id": "tGYkthsac5zB"
      }
    },
    {
      "cell_type": "code",
      "source": [
        "Power_aim =0.5/30 # half a litre per 30 second, keep the cold tank level constant\n",
        "dT = 10 # total of 10 degree temperature drop compared to the outside\n",
        "capacity = 60 * 0.001 #litres\n",
        "R1 = (capacity/(2*np.pi))**(1/3)\n",
        "L = 2* R1\n",
        "t = 0.01 #Assume 1cm thick polystyren insulation as an example\n",
        "R2 = (1+t/R1)*R1\n",
        "k =  0.12\n",
        "def nusselt_number(Ra_L, Pr):\n",
        "    numerator = 0.387 * Ra_L**(1/6)\n",
        "    denominator = (1 + (0.492 / Pr)**(9/16))**(8/27)\n",
        "    Nu_L = (0.825 + numerator / denominator)**2\n",
        "    return Nu_L\n",
        "T_s = 273+17    # Surface temperature in K\n",
        "T_inf = 273 +27  # Ambient temperature in K\n",
        "L = 0.5        # Characteristic length in meters\n",
        "nu = 1.5e-5    # Kinematic viscosity (m^2/s)\n",
        "alpha = 2.2e-5 # Thermal diffusivity (m^2/s)\n",
        "g=9.81\n",
        "kair = 0.0273 #thermal conductivity of air\n",
        "def rayleigh_number(L):\n",
        "    # Example usage\n",
        "    T_film = (T_s + T_inf) / 2  # Film temperature (K)\n",
        "    beta = 1 / T_film           # Thermal expansion coefficient (1/K), ideal gas approx.\n",
        "    Pr = nu / alpha             # Prandtl number\n",
        "    Gr_L = abs((g * beta * (T_s - T_inf) * L**3) / (nu**2) ) # Grashof number\n",
        "    Ra_L = Gr_L * Pr\n",
        "    return Ra_L\n",
        "Pr = nu/alpha\n",
        "Ra_L = rayleigh_number(L)\n",
        "Nu_L = nusselt_number(Ra_L, Pr)\n",
        "print(f\"Nu_L = {Nu_L:.2e}\")\n",
        "h = Nu_L * kair / L\n",
        "print(f\"h = {h:.2e}\")\n",
        "\n",
        "Rconv = 1/(h*2*np.pi*L*R2)\n",
        "print(Rconv)\n",
        "Rtherm = 1/(2*np.pi*k*L/np.log(R2/R1)) + Rconv\n",
        "Q = dT/Rtherm\n",
        "print(Q)\n",
        "#When a tank is filled this is the amount of energy used to cool it\n",
        "#This is much less than the heat required to cool the water in the fist place"
      ],
      "metadata": {
        "colab": {
          "base_uri": "https://localhost:8080/"
        },
        "id": "RXLdRcB6c5Ki",
        "outputId": "e750c2ad-4d12-4e04-8657-8c0f8995e7a6"
      },
      "execution_count": null,
      "outputs": [
        {
          "output_type": "stream",
          "name": "stdout",
          "text": [
            "Nu_L = 6.51e+01\n",
            "h = 3.55e+00\n",
            "0.4033052270354076\n",
            "19.03031673543144\n"
          ]
        }
      ]
    },
    {
      "cell_type": "markdown",
      "source": [
        "Heat losses were calculated to be on the order of magnitude of 10-20 Watts. This leads to the conclusion that the main part of power would be used on cooling new water rather than keeping teh water in the tank cool. This model may not be too precise in several aspects: if the tank is in the sun the temperature inside might be considerably higher and the effect of passive cooling on this is unknown. However, this"
      ],
      "metadata": {
        "id": "Hhj-WjCK8JFo"
      }
    },
    {
      "cell_type": "markdown",
      "source": [
        "#Side quest:"
      ],
      "metadata": {
        "id": "wufSGtlVMwcX"
      }
    },
    {
      "cell_type": "code",
      "source": [
        "import random\n",
        "import heapq\n",
        "import matplotlib.pyplot as plt\n",
        "import numpy as np\n",
        "\n",
        "\n",
        "class MM1KWaterQueue:\n",
        "    def __init__(self, arrival_rate, service_rate, capacity, simulation_time):\n",
        "        self.arrival_rate = arrival_rate  # λ\n",
        "        self.service_rate = service_rate  # μ\n",
        "        self.capacity = capacity\n",
        "        self.simulation_time = simulation_time\n",
        "\n",
        "        # Queue and server\n",
        "        self.clock = 0\n",
        "        self.queue = []\n",
        "        self.server_busy = False\n",
        "\n",
        "        # Customer stats\n",
        "        self.total_customers = 0\n",
        "        self.served_customers = 0\n",
        "        self.dropped_customers = 0\n",
        "\n",
        "        # Water system\n",
        "        self.tank_a_capacity = 2.0\n",
        "        self.tank_b_capacity = 300.0\n",
        "        self.tank_a_volume = 2.0\n",
        "        self.tank_b_volume = 300.0\n",
        "        self.tank_a_fill_rate = 0.4/30  # litres/sec\n",
        "        self.last_update_time = 0.0\n",
        "\n",
        "        # Water tracking\n",
        "        self.total_from_a = 0.0\n",
        "        self.total_from_b = 0.0\n",
        "\n",
        "        # Event list\n",
        "        self.event_list = []\n",
        "\n",
        "        # For plotting\n",
        "        self.time_points = []\n",
        "        self.queue_sizes = []\n",
        "        self.water_from_a = []\n",
        "        self.water_from_b = []\n",
        "\n",
        "    def schedule_event(self, time, event_type):\n",
        "        heapq.heappush(self.event_list, (time, event_type))\n",
        "\n",
        "    def update_tanks(self):\n",
        "        time_passed = self.clock - self.last_update_time\n",
        "        refill_amount = time_passed * self.tank_a_fill_rate\n",
        "\n",
        "        if self.tank_a_volume < self.tank_a_capacity:\n",
        "            refill = min(refill_amount, self.tank_a_capacity - self.tank_a_volume)\n",
        "            actual_refill = min(refill, self.tank_b_volume)\n",
        "            self.tank_a_volume += actual_refill\n",
        "            self.tank_b_volume -= actual_refill\n",
        "\n",
        "        self.last_update_time = self.clock\n",
        "\n",
        "    def record_stats(self):\n",
        "        size = len(self.queue) + (1 if self.server_busy else 0)\n",
        "        self.time_points.append(self.clock)\n",
        "        self.queue_sizes.append(size)\n",
        "        self.water_from_a.append(self.total_from_a)\n",
        "        self.water_from_b.append(self.total_from_b)\n",
        "\n",
        "    def run(self):\n",
        "        # Schedule first arrival\n",
        "        self.schedule_event(self.clock + random.expovariate(self.arrival_rate), \"arrival\")\n",
        "\n",
        "        while self.event_list and self.clock < self.simulation_time:\n",
        "            self.clock, event_type = heapq.heappop(self.event_list)\n",
        "            self.update_tanks()\n",
        "            self.record_stats()\n",
        "\n",
        "            if event_type == \"arrival\":\n",
        "                self.handle_arrival()\n",
        "            elif event_type == \"departure\":\n",
        "                self.handle_departure()\n",
        "\n",
        "        self.print_summary()\n",
        "        self.plot_results()\n",
        "\n",
        "    def handle_arrival(self):\n",
        "        self.total_customers += 1\n",
        "        if len(self.queue) < self.capacity:\n",
        "            self.queue.append(self.clock)\n",
        "            if not self.server_busy:\n",
        "                self.start_service()\n",
        "        else:\n",
        "            self.dropped_customers += 1\n",
        "\n",
        "        next_arrival = self.clock + random.expovariate(self.arrival_rate)\n",
        "        self.schedule_event(next_arrival, \"arrival\")\n",
        "\n",
        "    def start_service(self):\n",
        "        if self.queue:\n",
        "            self.server_busy = True\n",
        "            self.queue.pop(0)\n",
        "            service_time = random.expovariate(self.service_rate)\n",
        "            self.schedule_event(self.clock + service_time, \"departure\")\n",
        "\n",
        "    def handle_departure(self):\n",
        "        self.served_customers += 1\n",
        "\n",
        "        if self.tank_a_volume >= 0.5:\n",
        "            self.tank_a_volume -= 0.5\n",
        "            self.total_from_a += 0.5\n",
        "        else:\n",
        "          self.tank_b_volume -= 0.5\n",
        "          self.total_from_b += 0.5\n",
        "\n",
        "          '''\n",
        "            needed = 0.5 - self.tank_a_volume\n",
        "            from_a = self.tank_a_volume\n",
        "            from_b = min(needed, self.tank_b_volume)\n",
        "\n",
        "            self.tank_a_volume = 0\n",
        "            self.tank_b_volume -= from_b\n",
        "            self.total_from_a += from_a\n",
        "            self.total_from_b += from_b\n",
        "            '''\n",
        "\n",
        "        self.server_busy = False\n",
        "        self.start_service()\n",
        "\n",
        "    def print_summary(self):\n",
        "        print(f\"Simulation ended at {self.clock:.2f} seconds\")\n",
        "        print(f\"Total customers arrived: {self.total_customers}\")\n",
        "        print(f\"Customers served: {self.served_customers}\")\n",
        "        print(f\"Customers dropped (queue full): {self.dropped_customers}\")\n",
        "        print(f\"Water dispensed from Tank A: {self.total_from_a:.2f} litres\")\n",
        "        print(f\"Water dispensed from Tank B: {self.total_from_b:.2f} litres\")\n",
        "\n",
        "    def plot_results(self):\n",
        "        plt.figure(figsize=(12, 5))\n",
        "\n",
        "        # Queue size\n",
        "        plt.subplot(1, 2, 1)\n",
        "        plt.step(self.time_points, self.queue_sizes, where='post')\n",
        "        plt.title(\"Queue Size Over Time\")\n",
        "        plt.xlabel(\"Time (s)\")\n",
        "        plt.ylabel(\"Queue Size\")\n",
        "        plt.grid(True)\n",
        "\n",
        "        # Water source\n",
        "        plt.subplot(1, 2, 2)\n",
        "        plt.plot(self.time_points, self.water_from_a, label=\"Tank A\")\n",
        "        plt.plot(self.time_points, self.water_from_b, label=\"Tank B\")\n",
        "        plt.title(\"Cumulative Water Dispensed\")\n",
        "        plt.xlabel(\"Time (s)\")\n",
        "        plt.ylabel(\"Litres\")\n",
        "        plt.legend()\n",
        "        plt.grid(True)\n",
        "\n",
        "        plt.tight_layout()\n",
        "        plt.show()\n",
        "    def compute_steady_state_probs(self):\n",
        "        ρ = self.arrival_rate / self.service_rate\n",
        "        probs = []\n",
        "        K = self.capacity\n",
        "\n",
        "        if ρ == 1:\n",
        "            P0 = 1 / (K + 1)\n",
        "            probs = [P0] * (K + 1)\n",
        "        else:\n",
        "            P0 = (1 - ρ) / (1 - ρ ** (K + 1))\n",
        "            probs = [P0 * ρ ** n for n in range(K + 1)]\n",
        "\n",
        "        print(\"\\nSteady-State Probabilities:\")\n",
        "        for n, pn in enumerate(probs):\n",
        "            print(f\"P({n}) = {pn:.5f}\")\n",
        "\n",
        "        # Optional: plot\n",
        "        plt.figure(figsize=(6, 4))\n",
        "        plt.bar(range(K + 1), probs, color='skyblue', edgecolor='black')\n",
        "        plt.title(\"Steady-State Queue Probabilities\")\n",
        "        plt.xlabel(\"Number of Customers in System\")\n",
        "        plt.ylabel(\"Probability\")\n",
        "        plt.grid(True, axis='y')\n",
        "        plt.xticks(range(K + 1))\n",
        "        plt.tight_layout()\n",
        "        plt.show()\n",
        "\n",
        "\n",
        "# --- Parameters ---\n",
        "arrival_rate = 1 / 30     # avg 30 sec interarrival\n",
        "service_rate = 1 / 30     # avg 25 sec service\n",
        "capacity = 10           # max queue length\n",
        "simulation_time = 3600    # 1 hour\n",
        "\n",
        "sim = MM1KWaterQueue(arrival_rate, service_rate, capacity, simulation_time)\n",
        "sim.run()\n",
        "sim.compute_steady_state_probs()"
      ],
      "metadata": {
        "colab": {
          "base_uri": "https://localhost:8080/",
          "height": 1000
        },
        "id": "YyQWa5Lw0nd1",
        "outputId": "d42fbb90-8864-4cb4-cf6f-764885b135ee"
      },
      "execution_count": 2,
      "outputs": [
        {
          "output_type": "stream",
          "name": "stdout",
          "text": [
            "Simulation ended at 3602.88 seconds\n",
            "Total customers arrived: 113\n",
            "Customers served: 106\n",
            "Customers dropped (queue full): 6\n",
            "Water dispensed from Tank A: 47.00 litres\n",
            "Water dispensed from Tank B: 6.00 litres\n"
          ]
        },
        {
          "output_type": "display_data",
          "data": {
            "text/plain": [
              "<Figure size 1200x500 with 2 Axes>"
            ],
            "image/png": "[encoded data removed]"
          },
          "metadata": {}
        },
        {
          "output_type": "stream",
          "name": "stdout",
          "text": [
            "\n",
            "Steady-State Probabilities:\n",
            "P(0) = 0.09091\n",
            "P(1) = 0.09091\n",
            "P(2) = 0.09091\n",
            "P(3) = 0.09091\n",
            "P(4) = 0.09091\n",
            "P(5) = 0.09091\n",
            "P(6) = 0.09091\n",
            "P(7) = 0.09091\n",
            "P(8) = 0.09091\n",
            "P(9) = 0.09091\n",
            "P(10) = 0.09091\n"
          ]
        },
        {
          "output_type": "display_data",
          "data": {
            "text/plain": [
              "<Figure size 600x400 with 1 Axes>"
            ],
            "image/png": "[encoded data removed]"
          },
          "metadata": {}
        }
      ]
    },
    {
      "cell_type": "markdown",
      "source": [
        "This code calculates how much cold water we can deliver, depending on tank size, cooling rate"
      ],
      "metadata": {
        "id": "0eNJh3bK0Ujp"
      }
    },
    {
      "cell_type": "code",
      "source": [
        "Power_aim =0.5/30 # half a litre per 30 second, keep the cold tank level constant\n",
        "dT = 10 # total of 10 degree temperature drop compared to the outside\n",
        "capacity = 5 * 0.001 #litres\n",
        "R1 = (capacity/(2*np.pi))**(1/3)\n",
        "L = 2* R1\n",
        "t = 0.1 * R1\n",
        "R2 = (1+t/R1)*R1\n",
        "k =  0.12\n",
        "def nusselt_number(Ra_L, Pr):\n",
        "    numerator = 0.387 * Ra_L**(1/6)\n",
        "    denominator = (1 + (0.492 / Pr)**(9/16))**(8/27)\n",
        "    Nu_L = (0.825 + numerator / denominator)**2\n",
        "    return Nu_L\n",
        "T_s = 273+25    # Surface temperature in K\n",
        "T_inf = 273 +27  # Ambient temperature in K\n",
        "L = 0.5        # Characteristic length in meters\n",
        "nu = 1.5e-5    # Kinematic viscosity (m^2/s)\n",
        "alpha = 2.2e-5 # Thermal diffusivity (m^2/s)\n",
        "g=9.81\n",
        "kair = 0.0273 #thermal conductivity of air\n",
        "def rayleigh_number(L):\n",
        "    # Example usage\n",
        "    T_film = (T_s + T_inf) / 2  # Film temperature (K)\n",
        "    beta = 1 / T_film           # Thermal expansion coefficient (1/K), ideal gas approx.\n",
        "    Pr = nu / alpha             # Prandtl number\n",
        "    Gr_L = abs((g * beta * (T_s - T_inf) * L**3) / (nu**2) ) # Grashof number\n",
        "    Ra_L = Gr_L * Pr\n",
        "    return Ra_L\n",
        "Pr = nu/alpha\n",
        "Ra_L = rayleigh_number(L)\n",
        "Nu_L = nusselt_number(Ra_L, Pr)\n",
        "print(f\"Nu_L = {Nu_L:.2e}\")\n",
        "h = Nu_L * kair / L\n",
        "print(f\"h = {h:.2e}\")\n",
        "\n",
        "Rconv = 1/(h*2*np.pi*L*R2)\n",
        "print(Rconv)\n",
        "Rtherm = 1/(2*np.pi*k*L/np.log(R2/R1)) + Rconv\n",
        "Q = dT/Rtherm\n",
        "print(Q)\n",
        "#When a tank is filled this is the amount of energy used to cool it\n",
        "#This is much less than the heat required to cool the water in the fist place"
      ],
      "metadata": {
        "colab": {
          "base_uri": "https://localhost:8080/"
        },
        "id": "EmbQsC-1wbGl",
        "outputId": "04846d13-744c-4c63-913a-1bdaff4b7b26"
      },
      "execution_count": null,
      "outputs": [
        {
          "output_type": "stream",
          "name": "stdout",
          "text": [
            "Nu_L = 4.03e+01\n",
            "h = 2.20e+00\n",
            "1.4182330446134856\n",
            "5.9842572790272985\n"
          ]
        }
      ]
    },
    {
      "cell_type": "code",
      "source": [],
      "metadata": {
        "id": "dXn-RRChIw3o"
      },
      "execution_count": null,
      "outputs": []
    }
  ]
}